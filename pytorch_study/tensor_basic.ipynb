{
 "cells": [
  {
   "cell_type": "code",
   "execution_count": 1,
   "id": "6a8c0a66",
   "metadata": {},
   "outputs": [],
   "source": [
    "#package import\n",
    "import torch as tc\n",
    "import numpy as np"
   ]
  },
  {
   "cell_type": "markdown",
   "id": "74fe57c8",
   "metadata": {},
   "source": [
    "# Tensor handling basic"
   ]
  },
  {
   "cell_type": "code",
   "execution_count": 34,
   "id": "cac4307c",
   "metadata": {},
   "outputs": [
    {
     "name": "stdout",
     "output_type": "stream",
     "text": [
      "tensor([[0., 0., 0., 0.],\n",
      "        [0., 0., 0., 0.],\n",
      "        [0., 0., 0., 0.]])\n"
     ]
    }
   ],
   "source": [
    "x = tc.empty(3,4)#빈 행렬\n",
    "print(x)"
   ]
  },
  {
   "cell_type": "code",
   "execution_count": 4,
   "id": "edabb565",
   "metadata": {},
   "outputs": [
    {
     "data": {
      "text/plain": [
       "tensor([[1., 1., 1.],\n",
       "        [1., 1., 1.],\n",
       "        [1., 1., 1.]])"
      ]
     },
     "execution_count": 4,
     "metadata": {},
     "output_type": "execute_result"
    }
   ],
   "source": [
    "tc.ones(3,3)#1행렬"
   ]
  },
  {
   "cell_type": "code",
   "execution_count": 5,
   "id": "7d95f87a",
   "metadata": {},
   "outputs": [
    {
     "data": {
      "text/plain": [
       "tensor([[0., 0., 0.],\n",
       "        [0., 0., 0.],\n",
       "        [0., 0., 0.]])"
      ]
     },
     "execution_count": 5,
     "metadata": {},
     "output_type": "execute_result"
    }
   ],
   "source": [
    "tc.zeros(3,3)#0행렬"
   ]
  },
  {
   "cell_type": "code",
   "execution_count": 6,
   "id": "35b7707b",
   "metadata": {
    "scrolled": true
   },
   "outputs": [
    {
     "data": {
      "text/plain": [
       "tensor([[0.6283, 0.5878, 0.0441, 0.0901, 0.9782],\n",
       "        [0.6707, 0.3780, 0.4118, 0.4098, 0.5390],\n",
       "        [0.3235, 0.4765, 0.6496, 0.9794, 0.3525],\n",
       "        [0.1192, 0.9394, 0.4132, 0.9047, 0.6466]])"
      ]
     },
     "execution_count": 6,
     "metadata": {},
     "output_type": "execute_result"
    }
   ],
   "source": [
    "tc.rand(4,5)#무작위값 행렬"
   ]
  },
  {
   "cell_type": "code",
   "execution_count": 53,
   "id": "cb344da2",
   "metadata": {},
   "outputs": [
    {
     "name": "stdout",
     "output_type": "stream",
     "text": [
      "torch.Size([3, 3])\n",
      "torch.float32\n",
      "cpu\n"
     ]
    }
   ],
   "source": [
    "#tensor 기본 정보\n",
    "x = tc.rand(3,3)\n",
    "print(x.shape)#=size\n",
    "print(x.dtype)\n",
    "print(x.device)"
   ]
  },
  {
   "cell_type": "code",
   "execution_count": 39,
   "id": "2b5784f9",
   "metadata": {},
   "outputs": [
    {
     "data": {
      "text/plain": [
       "tensor([[0.4696, 0.0870, 0.4985, 0.1628, 0.1187],\n",
       "        [0.9651, 0.8728, 0.6810, 0.8023, 0.9999],\n",
       "        [0.8953, 0.8726, 0.3185, 0.3184, 0.6481],\n",
       "        [0.1882, 0.1509, 0.6966, 0.2648, 0.7900]], dtype=torch.float64,\n",
       "       requires_grad=True)"
      ]
     },
     "execution_count": 39,
     "metadata": {},
     "output_type": "execute_result"
    }
   ],
   "source": [
    "tc.rand(4,5, dtype = float, device = 'cpu',requires_grad = True, pin_memory = True )\n",
    "#dtype = 데이터 타입\n",
    "#device = 연산장치 설정\n",
    "#requires_grad = tensor 연산 기록\n",
    "#pin_memory = tensor 를 고정된 메모리에 할당(cpu만 가능,cuda 확인 필요)"
   ]
  },
  {
   "cell_type": "code",
   "execution_count": 23,
   "id": "be87caa9",
   "metadata": {},
   "outputs": [
    {
     "name": "stdout",
     "output_type": "stream",
     "text": [
      "tensor([ 1,  7, 19])\n",
      "tensor([ 4, 78, 26])\n"
     ]
    }
   ],
   "source": [
    "#list, numpy to tensor\n",
    "l = [1, 7, 19]\n",
    "r = [4,78,26]\n",
    "ltt = tc.tensor(l)\n",
    "rtt = tc.tensor(r)\n",
    "print(ltt)\n",
    "print(rtt)"
   ]
  },
  {
   "cell_type": "code",
   "execution_count": 9,
   "id": "506e30c9",
   "metadata": {},
   "outputs": [
    {
     "data": {
      "text/plain": [
       "torch.Size([3, 4])"
      ]
     },
     "execution_count": 9,
     "metadata": {},
     "output_type": "execute_result"
    }
   ],
   "source": [
    "#tensor size \n",
    "x.size()"
   ]
  },
  {
   "cell_type": "code",
   "execution_count": 17,
   "id": "6138add2",
   "metadata": {},
   "outputs": [
    {
     "name": "stdout",
     "output_type": "stream",
     "text": [
      "tensor([[0.7692, 0.2762, 1.1451],\n",
      "        [0.9044, 1.1649, 1.6033],\n",
      "        [1.2878, 0.5788, 0.5884]])\n",
      "tensor([[1.0509, 0.8205, 0.8541],\n",
      "        [1.6983, 1.5826, 1.5690],\n",
      "        [1.2279, 0.9022, 1.4416]])\n"
     ]
    }
   ],
   "source": [
    "#tensor 기본 계산\n",
    "x = tc.rand(3,3)\n",
    "y = tc.rand(3,3)\n",
    "#덧셈\n",
    "add = x.add(y)#x+y도 가능\n",
    "print(add)\n",
    "x.add_(y)#inplace(지양해야됨)\n",
    "#곱셈(내,외적)\n",
    "matmul = x.matmul(y)#x@y, x,mm(y)도 가능\n",
    "print(matmul)"
   ]
  },
  {
   "cell_type": "code",
   "execution_count": 46,
   "id": "7259633e",
   "metadata": {},
   "outputs": [
    {
     "name": "stdout",
     "output_type": "stream",
     "text": [
      "tensor([[1., 1., 1.],\n",
      "        [1., 1., 1.],\n",
      "        [1., 1., 1.]])\n",
      "tensor([[0., 0., 0.],\n",
      "        [0., 0., 0.],\n",
      "        [0., 0., 0.]])\n"
     ]
    }
   ],
   "source": [
    "#like tensor\n",
    "x = tc.rand(3,3)\n",
    "print(tc.ones_like(x))\n",
    "print(tc.zeros_like(x))"
   ]
  },
  {
   "cell_type": "code",
   "execution_count": 45,
   "id": "757bda1f",
   "metadata": {},
   "outputs": [
    {
     "name": "stdout",
     "output_type": "stream",
     "text": [
      "tensor(0.3757)\n",
      "tensor(0.2349)\n",
      "tensor(0.7985)\n",
      "tensor(2)\n",
      "tensor(0.0458)\n"
     ]
    }
   ],
   "source": [
    "#통계값\n",
    "x = tc.rand(3,3)\n",
    "print(x.mean())\n",
    "print(x.mean(dim=0))\n",
    "print(x.mean(dim=1))\n",
    "print(x.median())\n",
    "print(x.min())\n",
    "print(x.max())\n",
    "print(x.argmax())"
   ]
  },
  {
   "cell_type": "code",
   "execution_count": 15,
   "id": "c3ac744a",
   "metadata": {},
   "outputs": [
    {
     "name": "stdout",
     "output_type": "stream",
     "text": [
      "tensor([[0.4618, 0.5695, 0.6258, 0.2833, 0.9768],\n",
      "        [0.0743, 0.2133, 0.5766, 0.7647, 0.0713],\n",
      "        [0.5411, 0.3649, 0.6291, 0.9116, 0.8206],\n",
      "        [0.4811, 0.6013, 0.8525, 0.1211, 0.7132]])\n",
      "tensor(0.2133)\n",
      "tensor([0.0743, 0.2133, 0.5766, 0.7647, 0.0713])\n",
      "tensor([0.5695, 0.2133, 0.3649, 0.6013])\n"
     ]
    }
   ],
   "source": [
    "#index\n",
    "x = tc.rand(4,5)\n",
    "print(x)\n",
    "print(x[1,1])#특정 행렬값\n",
    "print(x[1,:])#행\n",
    "print(x[:,1])#열"
   ]
  },
  {
   "cell_type": "code",
   "execution_count": 44,
   "id": "3ba1cd7d",
   "metadata": {},
   "outputs": [
    {
     "name": "stdout",
     "output_type": "stream",
     "text": [
      "(tensor([[0.3176, 0.0841, 0.9905, 0.9338, 0.4412, 0.0309, 0.5076, 0.9103],\n",
      "        [0.3289, 0.8081, 0.2953, 0.0682, 0.1643, 0.8262, 0.7605, 0.4567],\n",
      "        [0.8145, 0.9669, 0.4576, 0.5983, 0.2903, 0.6589, 0.3705, 0.3416],\n",
      "        [0.0844, 0.1220, 0.7164, 0.5099, 0.8784, 0.1001, 0.1086, 0.7606]]), tensor([[6.2769e-01, 5.3192e-01, 9.8283e-01, 1.1112e-01, 6.6608e-04, 4.7008e-01,\n",
      "         8.4551e-01, 9.0856e-01],\n",
      "        [7.0677e-01, 1.1204e-02, 6.5102e-01, 2.5718e-01, 2.3871e-01, 9.4390e-01,\n",
      "         6.2062e-01, 6.4792e-01],\n",
      "        [7.6355e-01, 3.4647e-01, 2.0853e-02, 2.2673e-01, 7.8721e-02, 6.2417e-01,\n",
      "         1.1474e-01, 7.5070e-01],\n",
      "        [9.3067e-01, 5.8264e-02, 4.1409e-01, 8.6535e-01, 9.5883e-01, 3.3947e-01,\n",
      "         5.5047e-01, 1.9287e-01]]))\n",
      "(tensor([[0.3176, 0.0841, 0.9905, 0.9338],\n",
      "        [0.3289, 0.8081, 0.2953, 0.0682],\n",
      "        [0.8145, 0.9669, 0.4576, 0.5983],\n",
      "        [0.0844, 0.1220, 0.7164, 0.5099],\n",
      "        [0.6277, 0.5319, 0.9828, 0.1111],\n",
      "        [0.7068, 0.0112, 0.6510, 0.2572],\n",
      "        [0.7636, 0.3465, 0.0209, 0.2267],\n",
      "        [0.9307, 0.0583, 0.4141, 0.8654]]), tensor([[4.4119e-01, 3.0910e-02, 5.0756e-01, 9.1030e-01],\n",
      "        [1.6431e-01, 8.2624e-01, 7.6051e-01, 4.5675e-01],\n",
      "        [2.9026e-01, 6.5887e-01, 3.7046e-01, 3.4162e-01],\n",
      "        [8.7836e-01, 1.0013e-01, 1.0860e-01, 7.6063e-01],\n",
      "        [6.6608e-04, 4.7008e-01, 8.4551e-01, 9.0856e-01],\n",
      "        [2.3871e-01, 9.4390e-01, 6.2062e-01, 6.4792e-01],\n",
      "        [7.8721e-02, 6.2417e-01, 1.1474e-01, 7.5070e-01],\n",
      "        [9.5883e-01, 3.3947e-01, 5.5047e-01, 1.9287e-01]]))\n"
     ]
    }
   ],
   "source": [
    "#split tensor\n",
    "n = 2\n",
    "x = tc.rand(8,8)\n",
    "vertical = tc.vsplit(x, n)#가로로 n개 나누기(tuple out)\n",
    "print(vertical)\n",
    "horizen = tc.hsplit(x,n)#세로로 n개 나누기(tuple out)\n",
    "print(horizen)"
   ]
  },
  {
   "cell_type": "code",
   "execution_count": 26,
   "id": "2f06d8d8",
   "metadata": {},
   "outputs": [
    {
     "data": {
      "text/plain": [
       "0.14443421363830566"
      ]
     },
     "execution_count": 26,
     "metadata": {},
     "output_type": "execute_result"
    }
   ],
   "source": [
    "#tensor to scalar\n",
    "x = tc.rand(1)\n",
    "x.item()#수의 형태만 가능"
   ]
  },
  {
   "cell_type": "markdown",
   "id": "e07cf43a",
   "metadata": {},
   "source": [
    "# View function "
   ]
  },
  {
   "cell_type": "code",
   "execution_count": 24,
   "id": "6a27af62",
   "metadata": {},
   "outputs": [
    {
     "name": "stdout",
     "output_type": "stream",
     "text": [
      "torch.Size([8, 8])\n",
      "torch.Size([4, 16])\n",
      "torch.Size([4, 16])\n"
     ]
    }
   ],
   "source": [
    "#size handling\n",
    "x = tc.rand(8,8)\n",
    "print(x.size())\n",
    "n = x.view(4,16)\n",
    "print(n.size())\n",
    "e = x.view(-1,16)#-1(자동값)은 차원중 한값만 가능\n",
    "print(e.size())"
   ]
  },
  {
   "cell_type": "code",
   "execution_count": null,
   "id": "052501fc",
   "metadata": {},
   "outputs": [],
   "source": [
    "#flatten\n",
    "x.view(64)"
   ]
  },
  {
   "cell_type": "markdown",
   "id": "426b91d5",
   "metadata": {},
   "source": [
    "# Matrix operate"
   ]
  },
  {
   "cell_type": "code",
   "execution_count": 60,
   "id": "de514d38",
   "metadata": {},
   "outputs": [
    {
     "name": "stdout",
     "output_type": "stream",
     "text": [
      "tensor([[0.8910, 0.2872, 0.7498],\n",
      "        [0.9329, 0.5392, 0.6190],\n",
      "        [0.7624, 0.5187, 0.3699]])\n",
      "tensor([[0.8910, 0.9329, 0.7624],\n",
      "        [0.2872, 0.5392, 0.5187],\n",
      "        [0.7498, 0.6190, 0.3699]])\n",
      "tensor([[0.8910, 0.9329, 0.7624],\n",
      "        [0.2872, 0.5392, 0.5187],\n",
      "        [0.7498, 0.6190, 0.3699]])\n"
     ]
    }
   ],
   "source": [
    "#transpose matrix\n",
    "x = tc.rand(3,3)\n",
    "#in 1-D\n",
    "print(x)\n",
    "print(x.t())\n",
    "# over 1-D\n",
    "print(x.transpose(0,1))#recommand"
   ]
  },
  {
   "cell_type": "code",
   "execution_count": 63,
   "id": "242c115d",
   "metadata": {},
   "outputs": [
    {
     "name": "stdout",
     "output_type": "stream",
     "text": [
      "tensor([[  7.0044, -16.2817,  13.0475],\n",
      "        [ -7.3070,  13.9433,  -8.5211],\n",
      "        [ -4.1909,  14.0070, -12.2406]])\n"
     ]
    }
   ],
   "source": [
    "#inverse matrix\n",
    "y = tc.inverse(x)\n",
    "print(y)"
   ]
  }
 ],
 "metadata": {
  "kernelspec": {
   "display_name": "Python 3 (ipykernel)",
   "language": "python",
   "name": "python3"
  },
  "language_info": {
   "codemirror_mode": {
    "name": "ipython",
    "version": 3
   },
   "file_extension": ".py",
   "mimetype": "text/x-python",
   "name": "python",
   "nbconvert_exporter": "python",
   "pygments_lexer": "ipython3",
   "version": "3.11.3"
  }
 },
 "nbformat": 4,
 "nbformat_minor": 5
}
